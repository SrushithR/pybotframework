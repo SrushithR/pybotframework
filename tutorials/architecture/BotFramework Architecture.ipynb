{
 "cells": [
  {
   "cell_type": "markdown",
   "metadata": {},
   "source": [
    "![Microsoft Bot Framework](images/high_level.png)\n"
   ]
  },
  {
   "attachments": {},
   "cell_type": "markdown",
   "metadata": {
    "slideshow": {
     "slide_type": "slide"
    }
   },
   "source": [
    "# Technologies\n",
    "* Flask - Web Application\n",
    "* Azure\n",
    "* Microsoft Language Understanding Intelligent Services (LUIS)\n",
    "* Cognitive Toolkit Deep Learning Library (CNTK) -- Microsoft Deep Learning Library\n",
    "* Tensorflow - Google Deep Learning Library\n",
    "* Scikit-Learn - Python Machine learning library \n",
    "* Regular Expressions (re library) Pattern-matching library built into Python"
   ]
  },
  {
   "attachments": {},
   "cell_type": "markdown",
   "metadata": {
    "slideshow": {
     "slide_type": "slide"
    }
   },
   "source": [
    "# Scaling Considerations\n",
    "\n",
    "* How many “Bots” do you want?\n",
    "* How do you scale to many bots?\n"
   ]
  },
  {
   "attachments": {},
   "cell_type": "markdown",
   "metadata": {
    "slideshow": {
     "slide_type": "slide"
    }
   },
   "source": [
    "# State Management\n",
    "* When scaling beyond one process or one server, you need to maintain the state. \n",
    "* Use the Memory module, or a shared database, to store and retrieve user and conversation data"
   ]
  },
  {
   "cell_type": "markdown",
   "metadata": {
    "slideshow": {
     "slide_type": "slide"
    }
   },
   "source": [
    "![Single Server](images/single_server.png)\n"
   ]
  },
  {
   "cell_type": "markdown",
   "metadata": {
    "slideshow": {
     "slide_type": "slide"
    }
   },
   "source": [
    "![Cloud Services](images/cloud_services.png)\n"
   ]
  },
  {
   "cell_type": "markdown",
   "metadata": {},
   "source": [
    "![Multiple Servers](images/multiple_servers.png)\n"
   ]
  },
  {
   "cell_type": "markdown",
   "metadata": {
    "slideshow": {
     "slide_type": "slide"
    }
   },
   "source": [
    "![Use Queues](images/queueing.png)\n"
   ]
  },
  {
   "cell_type": "code",
   "execution_count": 6,
   "metadata": {
    "slideshow": {
     "slide_type": "slide"
    }
   },
   "outputs": [],
   "source": [
    "from pybotframework.connector import Connector\n",
    "class MyConnector(Connector):\n",
    "    def __init__(self, model):\n",
    "        self.model = model\n",
    "        super().__init__()\n"
   ]
  },
  {
   "cell_type": "code",
   "execution_count": 7,
   "metadata": {
    "slideshow": {
     "slide_type": "slide"
    }
   },
   "outputs": [],
   "source": [
    "from pybotframework.connector import Connector\n",
    "class MyConnector(Connector):\n",
    "    def __init__(self, model):\n",
    "        self.model = model\n",
    "        super().__init__()\n"
   ]
  },
  {
   "cell_type": "code",
   "execution_count": 8,
   "metadata": {
    "slideshow": {
     "slide_type": "slide"
    }
   },
   "outputs": [],
   "source": [
    "# Clean up/normalize message (lowercase, remove periods, etc)\n",
    "# Fetch/generate additional features\n",
    "# Encode message into format for machine learning algorithm\n",
    "\n",
    "def _preprocess(self, message):\n",
    "    cleaned_message = do_some_formatting(message)\n",
    "    return cleaned_message\n",
    "\n"
   ]
  },
  {
   "cell_type": "code",
   "execution_count": 9,
   "metadata": {
    "slideshow": {
     "slide_type": "slide"
    }
   },
   "outputs": [],
   "source": [
    "# Run prediction for machine learning algorithms\n",
    "# Call third-party services with cleaned message and features\n",
    "# Find intent(s)\n",
    "\n",
    "def _process(self, cleaned_message, userinfo=None):\n",
    "    intent = get_intent_for_message(cleaned_message)"
   ]
  },
  {
   "cell_type": "code",
   "execution_count": 10,
   "metadata": {
    "slideshow": {
     "slide_type": "slide"
    }
   },
   "outputs": [],
   "source": [
    "# Do any cleanup after the prediction stage\n",
    "# Decode results from process\n",
    "# Clean up message and make it pretty (uppercase, add periods, etc)\n",
    "\n",
    "def _postprocess(self, prediction):\n",
    "    response = decode_prediction(prediction)\n",
    "    return response"
   ]
  },
  {
   "cell_type": "code",
   "execution_count": 11,
   "metadata": {
    "slideshow": {
     "slide_type": "slide"
    }
   },
   "outputs": [
    {
     "ename": "IndentationError",
     "evalue": "unexpected indent (<ipython-input-11-64ebb9e23b8c>, line 3)",
     "output_type": "error",
     "traceback": [
      "\u001b[0;36m  File \u001b[0;32m\"<ipython-input-11-64ebb9e23b8c>\"\u001b[0;36m, line \u001b[0;32m3\u001b[0m\n\u001b[0;31m    def respond(self, message):\u001b[0m\n\u001b[0m    ^\u001b[0m\n\u001b[0;31mIndentationError\u001b[0m\u001b[0;31m:\u001b[0m unexpected indent\n"
     ]
    }
   ],
   "source": [
    "\n",
    "def respond(self, message):        \n",
    "    cleaned_message = self._preprocess(message)        \n",
    "    prediction = self._process(cleaned_message)        \n",
    "    result = self._postprocess(prediction)        \n",
    "    return result\n"
   ]
  },
  {
   "cell_type": "markdown",
   "metadata": {
    "slideshow": {
     "slide_type": "slide"
    }
   },
   "source": [
    "If you would like to contribute, make a Pull Request to PyBotframework!\n",
    "Go to https://github.com/michhar/pybotframework\n",
    "\n"
   ]
  }
 ],
 "metadata": {
  "celltoolbar": "Slideshow",
  "kernelspec": {
   "display_name": "Python 3",
   "language": "python",
   "name": "python3"
  },
  "language_info": {
   "codemirror_mode": {
    "name": "ipython",
    "version": 3
   },
   "file_extension": ".py",
   "mimetype": "text/x-python",
   "name": "python",
   "nbconvert_exporter": "python",
   "pygments_lexer": "ipython3",
   "version": "3.5.3"
  }
 },
 "nbformat": 4,
 "nbformat_minor": 2
}
