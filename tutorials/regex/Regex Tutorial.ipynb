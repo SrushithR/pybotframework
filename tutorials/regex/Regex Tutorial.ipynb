{
 "cells": [
  {
   "cell_type": "markdown",
   "metadata": {},
   "source": [
    "# Regular Expression Bot\n",
    "\n",
    "So you want to skip the machine learning and build a quick and simple bot. Welcome RegexConnector.\n"
   ]
  },
  {
   "cell_type": "markdown",
   "metadata": {},
   "source": [
    "Regular expressions are specific patterns that are searched for inside text. For example, you have a message:"
   ]
  },
  {
   "cell_type": "code",
   "execution_count": 1,
   "metadata": {},
   "outputs": [],
   "source": [
    "message = \"Hello, Alain\""
   ]
  },
  {
   "cell_type": "markdown",
   "metadata": {},
   "source": [
    "We want to figure out what the message is. We can search for patterns inside a dictionary using a regular expression. For example, we want to find words like hello. Let's write a simple pattern to search for \"hi\" or \"hello\". The parentheses indicate a part of the sentence to be captured:"
   ]
  },
  {
   "cell_type": "code",
   "execution_count": 2,
   "metadata": {},
   "outputs": [],
   "source": [
    "pattern = \"(hi|hello|greeetings)\""
   ]
  },
  {
   "cell_type": "markdown",
   "metadata": {},
   "source": [
    "Now we want to search within the message for the pattern. To do this, we use the regular expression library in Python `re`"
   ]
  },
  {
   "cell_type": "code",
   "execution_count": 3,
   "metadata": {},
   "outputs": [
    {
     "data": {
      "text/plain": [
       "<_sre.SRE_Match object; span=(0, 5), match='Hello'>"
      ]
     },
     "execution_count": 3,
     "metadata": {},
     "output_type": "execute_result"
    }
   ],
   "source": [
    "import re\n",
    "result = re.search(pattern, message, flags=re.IGNORECASE)\n",
    "result"
   ]
  },
  {
   "cell_type": "markdown",
   "metadata": {},
   "source": [
    "As you can see, we get an SRE_Match object as the result. The match is \"hello\". Let's look at the captured parts of the sentence in the result with the \"groups()\""
   ]
  },
  {
   "cell_type": "code",
   "execution_count": 4,
   "metadata": {},
   "outputs": [
    {
     "data": {
      "text/plain": [
       "('Hello',)"
      ]
     },
     "execution_count": 4,
     "metadata": {},
     "output_type": "execute_result"
    }
   ],
   "source": [
    "result.groups()"
   ]
  },
  {
   "cell_type": "markdown",
   "metadata": {},
   "source": [
    "Cool! Now, we want to look at some specific regular expressions. We can learn a few special characters below:\n",
    "\n",
    "|pattern | description |\n",
    "|--- | --- |\n",
    "| . | match any character|\n",
    "| * | match zero or more of the previous character or sequence|\n",
    "| + | match one or more of the previous character or sequence|\n",
    "|\\w | match a word character -- including letters and numbers|\n",
    "|\\W | match a non-word character|\n",
    "|\\s | match a whitespace character like space or tab|\n",
    "|\\S | match a non-whitespace character|\n",
    "\n",
    "Now let's try them out:"
   ]
  },
  {
   "cell_type": "code",
   "execution_count": 5,
   "metadata": {},
   "outputs": [
    {
     "name": "stdout",
     "output_type": "stream",
     "text": [
      "Hello, Alain\n",
      "Hello\n",
      "Hello,\n"
     ]
    }
   ],
   "source": [
    "patterns = [\"hello.+\", \"\\w+\", \"\\S+\"]\n",
    "for pattern in patterns:\n",
    "    result = re.search(pattern, message, flags=re.IGNORECASE)\n",
    "    print(result.group())"
   ]
  },
  {
   "cell_type": "markdown",
   "metadata": {},
   "source": [
    "Now that we've matched some patterns, let's group the patterns and create some intents. For each pattern, we should choose an intent. We will use this to create Eliza Bot."
   ]
  },
  {
   "cell_type": "markdown",
   "metadata": {},
   "source": [
    "# Intents\n",
    "\n",
    "What are intents? Intents are like verbs in a sentence. An intent represents actions the user wants to perform. It is a purpose or goal expressed in a user's input, such as booking a flight, paying a bill, or finding a news article. You define a set of named intents that correspond to actions users want to take in your application. A travel app may define an intent named \"BookFlight\", that LUIS extracts from the utterance \"Book me a ticket to Paris\".\n",
    "\n",
    "- from https://docs.microsoft.com/en-us/azure/cognitive-services/luis/home"
   ]
  },
  {
   "cell_type": "markdown",
   "metadata": {},
   "source": [
    "# Eliza Bot\n",
    "\n",
    "Eliza is a Rogerian psychotherapist bot that was developed in 1964 at MIT. It uses regular expressions and substitution to respond to messages.\n",
    "\n",
    "https://en.wikipedia.org/wiki/ELIZA"
   ]
  },
  {
   "cell_type": "markdown",
   "metadata": {},
   "source": [
    "Let's take a look at some Eliza Bot regular expressions and create some intents. We will do this in a list of dictionaries, with each dictionary containing a pattern and an intent. We took the Eliza bot patterns and responses from online and reformatted them into our pattern and response JSON formats."
   ]
  },
  {
   "cell_type": "code",
   "execution_count": 6,
   "metadata": {},
   "outputs": [
    {
     "data": {
      "text/plain": [
       "[{'intent': 'need', 'pattern': 'I need (.*)'},\n",
       " {'intent': 'whydont', 'pattern': \"Why don't you (.*)\"},\n",
       " {'intent': 'whycant', 'pattern': \"Why can't I (.*)\"},\n",
       " {'intent': 'cant', 'pattern': \"I can't (.*)\"},\n",
       " {'intent': 'iam', 'pattern': 'I am (.*)'},\n",
       " {'intent': 'im', 'pattern': \"I'm (.*)\"},\n",
       " {'intent': 'areyou', 'pattern': 'Are you (.*)'},\n",
       " {'intent': 'what', 'pattern': 'What (.*)'},\n",
       " {'intent': 'how', 'pattern': 'How (.*)'},\n",
       " {'intent': 'because', 'pattern': 'Because (.*)'}]"
      ]
     },
     "execution_count": 6,
     "metadata": {},
     "output_type": "execute_result"
    }
   ],
   "source": [
    "import json\n",
    "import os\n",
    "f = open(os.path.join(\"..\", \"..\", \"examples\", \"eliza_bot\", 'regex.json'), 'r')\n",
    "patterns = json.load(f)\n",
    "patterns[:10]"
   ]
  },
  {
   "cell_type": "markdown",
   "metadata": {},
   "source": [
    "As you can see, Eliza is looking at the beginning of the sentence and looking for statements and questions. Using these statements, we generate intent strings that we will use to create responses. These intents can be anything we define. In this case we are using strings that are similar to the regex pattern.\n",
    "\n",
    "We should try to create as many patterns as we can, and categorize them using the intent keywords. These intents will be useful to help us determine how we should respond to a message. \n",
    "\n",
    "What are some good possible responses for the above patterns?"
   ]
  },
  {
   "cell_type": "markdown",
   "metadata": {},
   "source": [
    "Let's look at a few responses for the intent 'whydont'. We can generate a list of potential responses to an intent. In the case of the Botframework we can choose the response randomly. "
   ]
  },
  {
   "cell_type": "code",
   "execution_count": 7,
   "metadata": {},
   "outputs": [
    {
     "data": {
      "text/plain": [
       "{'messages': [\"Do you really think I don't {}?\",\n",
       "  'Perhaps eventually I will {}.',\n",
       "  'Do you really want me to {}?']}"
      ]
     },
     "execution_count": 7,
     "metadata": {},
     "output_type": "execute_result"
    }
   ],
   "source": [
    "f = open(os.path.join(\"..\", \"..\", \"examples\", \"eliza_bot\", 'responses.json'), 'r')\n",
    "responses = json.load(f)\n",
    "responses['whydont']"
   ]
  },
  {
   "cell_type": "markdown",
   "metadata": {},
   "source": [
    "# Put it all together\n",
    "\n",
    "Let's try out our RegexConnector with all of the pieces!"
   ]
  },
  {
   "cell_type": "code",
   "execution_count": 8,
   "metadata": {},
   "outputs": [],
   "source": [
    "from pybotframework.regex_connector import RegexConnector\n",
    "intent_file = os.path.join(\"..\", \"..\", \"examples\", \"eliza_bot\", 'regex.json')\n",
    "response_file = os.path.join(\"..\", \"..\", \"examples\", \"eliza_bot\", 'responses.json')\n",
    "\n",
    "regex_conn = RegexConnector(intent_file=intent_file, response_file=response_file)"
   ]
  },
  {
   "cell_type": "code",
   "execution_count": 9,
   "metadata": {},
   "outputs": [
    {
     "data": {
      "text/plain": [
       "'Hello, how are you feeling today?'"
      ]
     },
     "execution_count": 9,
     "metadata": {},
     "output_type": "execute_result"
    }
   ],
   "source": [
    "regex_conn.respond('Hello')"
   ]
  },
  {
   "cell_type": "code",
   "execution_count": 10,
   "metadata": {},
   "outputs": [
    {
     "data": {
      "text/plain": [
       "'Very interesting.'"
      ]
     },
     "execution_count": 10,
     "metadata": {},
     "output_type": "execute_result"
    }
   ],
   "source": [
    "regex_conn.respond('Who are you')"
   ]
  },
  {
   "cell_type": "code",
   "execution_count": 11,
   "metadata": {},
   "outputs": [
    {
     "data": {
      "text/plain": [
       "'What do you think?'"
      ]
     },
     "execution_count": 11,
     "metadata": {},
     "output_type": "execute_result"
    }
   ],
   "source": [
    "regex_conn.respond('What am I doing here?')"
   ]
  },
  {
   "cell_type": "code",
   "execution_count": 12,
   "metadata": {},
   "outputs": [
    {
     "data": {
      "text/plain": [
       "'Very interesting.'"
      ]
     },
     "execution_count": 12,
     "metadata": {},
     "output_type": "execute_result"
    }
   ],
   "source": [
    "regex_conn.respond('Stop that!')"
   ]
  },
  {
   "cell_type": "code",
   "execution_count": 13,
   "metadata": {},
   "outputs": [
    {
     "data": {
      "text/plain": [
       "'I see.'"
      ]
     },
     "execution_count": 13,
     "metadata": {},
     "output_type": "execute_result"
    }
   ],
   "source": [
    "regex_conn.respond('Help me!')"
   ]
  },
  {
   "cell_type": "markdown",
   "metadata": {},
   "source": [
    "<img src=\"flask.png\">\n",
    "\n",
    "The Python Botframework is built on the Flask Python Web Application Framework. Flask is a lightweight web framework built in Python by Armin Ronacher. \n",
    "\n",
    "You can learn more about the internals here: flask.pocoo.org\n",
    "\n",
    "# BotFramework Emulator\n",
    "We will use the Microsoft BotFramework Emulator, which emulates the Microsoft BotFramework service so you can develop and test your bots locally before deploying live on Azure. This is a local application that runs on your computer and can be configured to talk with your bot running on your machine or in the cloud.\n",
    "\n",
    "https://github.com/Microsoft/BotFramework-Emulator\n",
    "\n",
    "\n",
    "\n",
    "# Eliza Bot Example\n",
    "\n",
    "Now we will go over the Eliza Bot code\n"
   ]
  },
  {
   "cell_type": "raw",
   "metadata": {},
   "source": [
    "import os\n",
    "from pybotframework.botframework import BotFramework\n",
    "from pybotframework.regex_connector import RegexConnector\n",
    "\n",
    "regex_conn = RegexConnector(intent_file=intent_file, response_file=response_file)\n",
    "\n",
    "my_app = BotFramework(connectors=[regex_conn])\n",
    "\n",
    "\n",
    "if __name__ == '__main__':\n",
    "    # Run flask app on port specified here\n",
    "    my_app.run_server(host='0.0.0.0', port=3978, debug=True)"
   ]
  },
  {
   "cell_type": "raw",
   "metadata": {},
   "source": [
    "from pybotframework.connector import Connector\n",
    "import re\n",
    "import json\n",
    "import random\n",
    "\n",
    "\n",
    "class RegexConnector(Connector):\n",
    "\n",
    "    def __init__(self, intent_file, response_file):\n",
    "        \"\"\"\n",
    "        Constructor.\n",
    "\n",
    "        Parameters\n",
    "        ----------\n",
    "        model_file : str\n",
    "            The file with the json dialog logic.\n",
    "\n",
    "        \"\"\"\n",
    "        self.intent_list = json.load(open(intent_file, 'r'))\n",
    "        self.response_dict = json.load(open(response_file, 'r'))\n",
    "        super(RegexConnector, self).__init__()\n",
    "\n",
    "    def _process(self, message):\n",
    "        \"\"\"\n",
    "        Process the message data, reformating it so that the model will\n",
    "        understand it.\n",
    "\n",
    "        Returns\n",
    "        -------\n",
    "        dict\n",
    "        \"\"\"\n",
    "        for item in self.intent_list:\n",
    "            match = re.match(item['pattern'], message)\n",
    "            if match:\n",
    "                return (item['intent'], match.groups())\n",
    "        return (None, None)\n",
    "\n",
    "    def _postprocess(self, intent_tuple):\n",
    "        \"\"\"\n",
    "        Read in the processed message data, pass it to the model object, and\n",
    "        make a prediction. Return the data dictionary with the prediction\n",
    "        added to it.\n",
    "\n",
    "        Returns:\n",
    "        -------\n",
    "        dict\n",
    "        \"\"\"\n",
    "        # Return the response to the first occurrence of the pattern in user\n",
    "        # message\n",
    "        (intent, entities) = intent_tuple\n",
    "        response_list = self.response_dict.get(intent)\n",
    "        if response_list:\n",
    "            response = random.choice(response_list['messages'])\n",
    "            if entities:\n",
    "                response = response.format(*entities)\n",
    "        else:\n",
    "            response = \"Could not figure out a proper response. Please try again.\"\n",
    "        return response\n"
   ]
  },
  {
   "cell_type": "markdown",
   "metadata": {},
   "source": [
    "# Exercises"
   ]
  },
  {
   "cell_type": "markdown",
   "metadata": {},
   "source": [
    "Create your own regex bot for:\n",
    "1. A customer support service for your website. What frequently-asked questions could you find? What responses could you return?\n",
    "\n",
    "\n",
    "2. A calculator bot. Try to match an addition operation, and then perform the addition using the Regex connector.  \n"
   ]
  }
 ],
 "metadata": {
  "kernelspec": {
   "display_name": "Python 3",
   "language": "python",
   "name": "python3"
  },
  "language_info": {
   "codemirror_mode": {
    "name": "ipython",
    "version": 3
   },
   "file_extension": ".py",
   "mimetype": "text/x-python",
   "name": "python",
   "nbconvert_exporter": "python",
   "pygments_lexer": "ipython3",
   "version": "3.5.3"
  }
 },
 "nbformat": 4,
 "nbformat_minor": 2
}
