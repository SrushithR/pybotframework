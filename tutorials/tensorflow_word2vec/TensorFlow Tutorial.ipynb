{
 "cells": [
  {
   "cell_type": "markdown",
   "metadata": {},
   "source": [
    "# TensorFlow Tutorial\n",
    "In this tutorial you will learn how to use the `TensorFlowConnector` to create a bot that can predict analogies. Given three words, the bot will predict the fourth word. For example, given _word 1_ is to _word 2_ as _word 3_ is to _word 4_, the bot will predict _word 4_."
   ]
  },
  {
   "cell_type": "markdown",
   "metadata": {},
   "source": [
    "## Background\n",
    "Before continuing, here is a short introduction to the machine learning Python library, TensorFlow."
   ]
  },
  {
   "cell_type": "markdown",
   "metadata": {},
   "source": [
    "### What is TensorFlow?\n",
    "A machine learning library developed by the Google Brain Team. It excels at deep learning and complex, modeling tasks. The structure is graph-based. The nodes in the graph are operations, while the edges are multi-dimensional arrays called tensors.\n",
    "\n",
    "![tf_graph](https://image.slidesharecdn.com/gentlestintrototensorflowpart2-160514044449/95/gentlest-introduction-to-tensorflow-part-2-44-638.jpg?cb=1469416354)\n",
    "\n",
    "All operations are done outside of Python, in a TensorFlow session.\n",
    "\n",
    "Inputs are stored in two, main types of variables, **`placeholder()`**s and **`Variable()`**s. A **`placeholder()`** stores static values, like features and labels in a dateset. A **`Variable()`** stores dynamic values, like weights or biases, which will change during the modeling process as the model is being trained. All inputs are populated during a TensorFlow session."
   ]
  },
  {
   "cell_type": "markdown",
   "metadata": {},
   "source": [
    "### What is a tensor?\n",
    "In mathematics: A vector stores a one dimension, list of values. A matrix stores values in two dimensions. A tensor stores values in multiple dimensions, sometimes greater than three.\n",
    "\n",
    "![tensors](http://noaxiom.org/img/tensor%20examples.svg)"
   ]
  },
  {
   "cell_type": "markdown",
   "metadata": {},
   "source": [
    "## tf_bot\n",
    "We will use the tf_bot example in the examples directory as a guide to create our TensorFlow bot. Let's begin by importing the connectors."
   ]
  },
  {
   "cell_type": "code",
   "execution_count": 1,
   "metadata": {},
   "outputs": [
    {
     "ename": "NotFoundError",
     "evalue": "dlopen(/Users/dave/anaconda/envs/bots/lib/python3.5/site-packages/pybotframework-0.1-py3.5.egg/examples/tf_bot/word2vec/word2vec_ops.so, 6): image not found",
     "output_type": "error",
     "traceback": [
      "\u001b[0;31m---------------------------------------------------------------------------\u001b[0m",
      "\u001b[0;31mNotFoundError\u001b[0m                             Traceback (most recent call last)",
      "\u001b[0;32m<ipython-input-1-960edc6f7283>\u001b[0m in \u001b[0;36m<module>\u001b[0;34m()\u001b[0m\n\u001b[0;32m----> 1\u001b[0;31m \u001b[0;32mfrom\u001b[0m \u001b[0mpybotframework\u001b[0m\u001b[0;34m.\u001b[0m\u001b[0mtf_connector\u001b[0m \u001b[0;32mimport\u001b[0m \u001b[0mTensorFlowConnector\u001b[0m\u001b[0;34m\u001b[0m\u001b[0m\n\u001b[0m",
      "\u001b[0;32m~/anaconda/envs/bots/lib/python3.5/site-packages/pybotframework-0.1-py3.5.egg/pybotframework/tf_connector.py\u001b[0m in \u001b[0;36m<module>\u001b[0;34m()\u001b[0m\n\u001b[1;32m      2\u001b[0m \u001b[0;32mimport\u001b[0m \u001b[0mos\u001b[0m\u001b[0;34m\u001b[0m\u001b[0m\n\u001b[1;32m      3\u001b[0m \u001b[0;32mimport\u001b[0m \u001b[0mtensorflow\u001b[0m \u001b[0;32mas\u001b[0m \u001b[0mtf\u001b[0m\u001b[0;34m\u001b[0m\u001b[0m\n\u001b[0;32m----> 4\u001b[0;31m \u001b[0;32mimport\u001b[0m \u001b[0mexamples\u001b[0m\u001b[0;34m.\u001b[0m\u001b[0mtf_bot\u001b[0m\u001b[0;34m.\u001b[0m\u001b[0mword2vec\u001b[0m\u001b[0;34m.\u001b[0m\u001b[0mword2vec_optimized\u001b[0m \u001b[0;32mas\u001b[0m \u001b[0mword2vec_optimized\u001b[0m\u001b[0;34m\u001b[0m\u001b[0m\n\u001b[0m\u001b[1;32m      5\u001b[0m \u001b[0;32mfrom\u001b[0m \u001b[0mexamples\u001b[0m\u001b[0;34m.\u001b[0m\u001b[0mtf_bot\u001b[0m\u001b[0;34m.\u001b[0m\u001b[0mword2vec\u001b[0m\u001b[0;34m.\u001b[0m\u001b[0mword2vec_optimized\u001b[0m \u001b[0;32mimport\u001b[0m \u001b[0mOptions\u001b[0m\u001b[0;34m,\u001b[0m \u001b[0mWord2Vec\u001b[0m\u001b[0;34m,\u001b[0m \u001b[0mFLAGS\u001b[0m\u001b[0;34m\u001b[0m\u001b[0m\n\u001b[1;32m      6\u001b[0m \u001b[0;32mfrom\u001b[0m \u001b[0mpybotframework\u001b[0m\u001b[0;34m.\u001b[0m\u001b[0mconnector\u001b[0m \u001b[0;32mimport\u001b[0m \u001b[0mConnector\u001b[0m\u001b[0;34m\u001b[0m\u001b[0m\n",
      "\u001b[0;32m~/anaconda/envs/bots/lib/python3.5/site-packages/pybotframework-0.1-py3.5.egg/examples/tf_bot/word2vec/word2vec_optimized.py\u001b[0m in \u001b[0;36m<module>\u001b[0;34m()\u001b[0m\n\u001b[1;32m     42\u001b[0m \u001b[0;32mimport\u001b[0m \u001b[0mtensorflow\u001b[0m \u001b[0;32mas\u001b[0m \u001b[0mtf\u001b[0m\u001b[0;34m\u001b[0m\u001b[0m\n\u001b[1;32m     43\u001b[0m \u001b[0;34m\u001b[0m\u001b[0m\n\u001b[0;32m---> 44\u001b[0;31m \u001b[0mword2vec\u001b[0m \u001b[0;34m=\u001b[0m \u001b[0mtf\u001b[0m\u001b[0;34m.\u001b[0m\u001b[0mload_op_library\u001b[0m\u001b[0;34m(\u001b[0m\u001b[0mos\u001b[0m\u001b[0;34m.\u001b[0m\u001b[0mpath\u001b[0m\u001b[0;34m.\u001b[0m\u001b[0mjoin\u001b[0m\u001b[0;34m(\u001b[0m\u001b[0mos\u001b[0m\u001b[0;34m.\u001b[0m\u001b[0mpath\u001b[0m\u001b[0;34m.\u001b[0m\u001b[0mdirname\u001b[0m\u001b[0;34m(\u001b[0m\u001b[0mos\u001b[0m\u001b[0;34m.\u001b[0m\u001b[0mpath\u001b[0m\u001b[0;34m.\u001b[0m\u001b[0mrealpath\u001b[0m\u001b[0;34m(\u001b[0m\u001b[0m__file__\u001b[0m\u001b[0;34m)\u001b[0m\u001b[0;34m)\u001b[0m\u001b[0;34m,\u001b[0m \u001b[0;34m'word2vec_ops.so'\u001b[0m\u001b[0;34m)\u001b[0m\u001b[0;34m)\u001b[0m\u001b[0;34m\u001b[0m\u001b[0m\n\u001b[0m\u001b[1;32m     45\u001b[0m \u001b[0;34m\u001b[0m\u001b[0m\n\u001b[1;32m     46\u001b[0m \u001b[0mflags\u001b[0m \u001b[0;34m=\u001b[0m \u001b[0mtf\u001b[0m\u001b[0;34m.\u001b[0m\u001b[0mapp\u001b[0m\u001b[0;34m.\u001b[0m\u001b[0mflags\u001b[0m\u001b[0;34m\u001b[0m\u001b[0m\n",
      "\u001b[0;32m~/anaconda/envs/bots/lib/python3.5/site-packages/tensorflow/python/framework/load_library.py\u001b[0m in \u001b[0;36mload_op_library\u001b[0;34m(library_filename)\u001b[0m\n\u001b[1;32m     62\u001b[0m       \u001b[0;31m# pylint: disable=protected-access\u001b[0m\u001b[0;34m\u001b[0m\u001b[0;34m\u001b[0m\u001b[0m\n\u001b[1;32m     63\u001b[0m       raise errors_impl._make_specific_exception(\n\u001b[0;32m---> 64\u001b[0;31m           None, None, error_msg, error_code)\n\u001b[0m\u001b[1;32m     65\u001b[0m       \u001b[0;31m# pylint: enable=protected-access\u001b[0m\u001b[0;34m\u001b[0m\u001b[0;34m\u001b[0m\u001b[0m\n\u001b[1;32m     66\u001b[0m   \u001b[0;32mfinally\u001b[0m\u001b[0;34m:\u001b[0m\u001b[0;34m\u001b[0m\u001b[0m\n",
      "\u001b[0;31mNotFoundError\u001b[0m: dlopen(/Users/dave/anaconda/envs/bots/lib/python3.5/site-packages/pybotframework-0.1-py3.5.egg/examples/tf_bot/word2vec/word2vec_ops.so, 6): image not found"
     ]
    }
   ],
   "source": [
    "from pybotframework.tf_connector import TensorFlowConnector"
   ]
  },
  {
   "cell_type": "markdown",
   "metadata": {},
   "source": [
    "The `BotFramework` class is the main bot framework. This is where all the communication is done with the bot. In our case, the bot is going to connect with the `TensorFlowConnector`, to allow us to use TensorFlow models with the bot."
   ]
  },
  {
   "cell_type": "markdown",
   "metadata": {},
   "source": [
    "### `TensorFlowConnector`\n",
    "Let's define our `TensorFlowConnector` object."
   ]
  },
  {
   "cell_type": "code",
   "execution_count": null,
   "metadata": {},
   "outputs": [],
   "source": [
    "tf_conn = TensorFlowConnector(model_file='model.ckpt-4954')"
   ]
  },
  {
   "cell_type": "markdown",
   "metadata": {},
   "source": [
    "Here, we pass the already trained, word2vec model (_model.ckpt_) to the connector through the `model` parameter. The `word2vec_ops_fpath` parameter takes the file path for the TensorFlow ops file. An ops file stores TensorFlow operations. If a TensorFlow operations does not exist in the TensorFlow library, then you can create your own (see, for example: [Adding a New Op](https://www.tensorflow.org/extend/adding_an_op#building_the_op_library)). In our case, we will be using an ops file that has been created for the word2vec model.\n",
    "\n",
    "Note: you will need to compile the ops file for your specific system. Please see the notes in the _examples/tf_bot/_ directory."
   ]
  },
  {
   "cell_type": "markdown",
   "metadata": {},
   "source": [
    "## Interacting with the Bot\n",
    "After creating our TensorFlow bot, let's interact with it. Let's pass it a list of words and see if it will predict the fourth word."
   ]
  },
  {
   "cell_type": "code",
   "execution_count": null,
   "metadata": {},
   "outputs": [],
   "source": [
    "tf_conn.respond('cat kitten dog')"
   ]
  },
  {
   "cell_type": "markdown",
   "metadata": {},
   "source": [
    "## Under The Hood\n",
    "So, how does the `TensorFlowConnector` work and allow us to predict analogies using the word2vec model. Let's take a look at this connector in more detail. We will begin by importing a few, necessary Python libraries:"
   ]
  },
  {
   "cell_type": "raw",
   "metadata": {
    "collapsed": true
   },
   "source": [
    "import numpy as np\n",
    "import os\n",
    "import tensorflow as tf\n",
    "import pybotframework.word2vec.word2vec_optimized as word2vec_optimized\n",
    "from pybotframework.word2vec.word2vec_optimized import Options, Word2Vec\n",
    "from pybotframework.connector import Connector"
   ]
  },
  {
   "cell_type": "markdown",
   "metadata": {},
   "source": [
    "### `TensorFlowConnector`\n",
    "Now, we define the **`TensorFlowConnector`** class:"
   ]
  },
  {
   "cell_type": "raw",
   "metadata": {
    "collapsed": true
   },
   "source": [
    "class TensorFlowConnector(Connector):\n",
    "\n",
    "    def __init__(self, model_file, word2vec_ops_fpath):\n",
    "        Connector.__init__(self)\n",
    "        self.model = model_file\n",
    "        self.sess = None\n",
    "        self.saver = tf.train.Saver()\n",
    "        self.loaded_model = None\n",
    "        self.ops_fpath = word2vec_ops_fpath\n",
    "        self.word2vec = tf.load_op_library(os.path.join(self.ops_fpath, 'word2vec_ops.so'))\n",
    "        self._load_model()"
   ]
  },
  {
   "cell_type": "markdown",
   "metadata": {},
   "source": [
    "The `TensorFlowConnector` inherits the main, `Connector` class.\n",
    "\n",
    "The class constructor consists of several variables and two parameters. Let's take a look at each:\n",
    "\n",
    "__Parameters__:\n",
    "\n",
    "* `model_file`: The file path to the pre-trained, TensorFlow model.\n",
    "\n",
    "* `word2vec_ops_fpath`: The file path to the TensorFlow, word2vec ops file.\n",
    "\n",
    "\n",
    "__Constructor Variables__:\n",
    "\n",
    "* `self.sess`: This will store the TensorFlow sessions variable. It will be defined later on, so it is set to `None` initially.\n",
    "\n",
    "* `self.saver`: Store the TensorFlow `Saver()` object so that the the TensorFlow model can be restored.\n",
    "\n",
    "* `self.loaded_model`: The loadeded TensorFlow model will be stored here. For now, we initialize it using `None`.\n",
    "\n",
    "* `self.word2vec`: Store the TensorFlow operations file here.\n",
    "\n",
    "* `self._load_model()`: Store the TensorFlow model in the constructor so that we don't have to continually load the model, which would be memory intensive."
   ]
  },
  {
   "cell_type": "markdown",
   "metadata": {},
   "source": [
    "### `_load_model()`\n",
    "This method will load the TensorFlow model."
   ]
  },
  {
   "cell_type": "raw",
   "metadata": {
    "collapsed": true
   },
   "source": [
    "def _load_model(self):\n",
    "    # Load hyperparameters, etc., from the Options class\n",
    "    opts = Options()\n",
    "    word2vec_optimized.word2vec = self.word2vec\n",
    "    with tf.Graph().as_default(), tf.Session() as self.sess:\n",
    "        # Load word2vec model\n",
    "        self.loaded_model = Word2VecWrapper(opts, self.sess)\n",
    "        self.loaded_model.saver.restore(self.sess, self.model)"
   ]
  },
  {
   "cell_type": "markdown",
   "metadata": {},
   "source": [
    "It uses the wrapper class, **`Word2VecWrapper`** to inherit and modify the main, **`Word2Vec`** class. Specifically, it modifies the **`analogies()`** method. In the **`Word2Vec`** class, **`analogies()`** does not return any value and only prints the results. But, this won't work with a bot, since a value needs to be passed to the bot so that it can respond. So, the **`Word2VecWrapper`** class overides the **`analogies()`** method with a method that can return a value."
   ]
  },
  {
   "cell_type": "markdown",
   "metadata": {},
   "source": [
    "### `_preprocess()`\n",
    "Before passing the input message to the word2vec TensorFlow model, the message needs to be cleaned up and formatted. That is what is done here."
   ]
  },
  {
   "cell_type": "raw",
   "metadata": {
    "collapsed": true
   },
   "source": [
    "def _preprocess(self, message):\n",
    "    \"\"\"\n",
    "    Clean up the bot message.\n",
    "\n",
    "    :param message: str: Message read from the bot.\n",
    "    :return: list\n",
    "    \"\"\"\n",
    "    punctuations = \".!?#$%\"\n",
    "    for c in punctuations:\n",
    "        message = message.replace(c)\n",
    "        message = message.split(' ')\n",
    "    return message"
   ]
  },
  {
   "cell_type": "markdown",
   "metadata": {},
   "source": [
    "## `_process()`\n",
    "This method passing the cleaned message to the TensorFlow model and creates a prediction."
   ]
  },
  {
   "cell_type": "raw",
   "metadata": {
    "collapsed": true
   },
   "source": [
    "def _process(self, message, userinfo=None, prediction=None):\n",
    "    \"\"\"\n",
    "    Pass message through the TensorFlow Word2Vec model. Return an analogy prediction; given A is to B as C is to D,\n",
    "    predict D.\n",
    "\n",
    "    :param message: str: Cleaned bot message.\n",
    "    :param userinfo: Parameters pertinent to the user.\n",
    "    :type userinfo: None or list\n",
    "    :param prediction: Prediction output by model.\n",
    "    :type prediction: None or string\n",
    "    :return: str\n",
    "    \"\"\"\n",
    "    # Split message into three words\n",
    "    w0 = message[0]\n",
    "    w1 = message[1]\n",
    "    w2 = message[2]\n",
    "\n",
    "    with tf.Graph().as_default(), tf.Session() as session:\n",
    "        prediction = self.loaded_model.analogy(w0, w1, w2)\n",
    "    return prediction"
   ]
  },
  {
   "cell_type": "markdown",
   "metadata": {},
   "source": [
    "## `_postprocess()`\n",
    "Finally, the prediction needs to be formatted to a response the bot might make. We do that in the **`post-process()`** function."
   ]
  },
  {
   "cell_type": "raw",
   "metadata": {
    "collapsed": true
   },
   "source": [
    "def _postprocess(self, prediction):\n",
    "    \"\"\"\n",
    "    Pass the model prediction to a sentence, generating the bot response. Return the response.\n",
    "\n",
    "    :param prediction: str: Tensorflow model prediction.\n",
    "    :return: str\n",
    "    \"\"\"\n",
    "    if prediction != 'unknown':\n",
    "        return \"I figured it out! The fourth word should be {}.\".format(prediction)\n",
    "    else:\n",
    "        return \"I'm sorry, I was unable to find an analogy with the words you provide. Please try again.\""
   ]
  },
  {
   "cell_type": "markdown",
   "metadata": {},
   "source": [
    "## Exersize:\n",
    "Create a TensorFlow bot."
   ]
  },
  {
   "cell_type": "markdown",
   "metadata": {
    "collapsed": true
   },
   "source": [
    "## Advanced Exersize:\n",
    "Load a pretrained, word2vec model and create correct implementation of **`_process()`** method."
   ]
  },
  {
   "cell_type": "code",
   "execution_count": null,
   "metadata": {
    "collapsed": true
   },
   "outputs": [],
   "source": []
  }
 ],
 "metadata": {
  "kernelspec": {
   "display_name": "Python 3",
   "language": "python",
   "name": "python3"
  },
  "language_info": {
   "codemirror_mode": {
    "name": "ipython",
    "version": 3
   },
   "file_extension": ".py",
   "mimetype": "text/x-python",
   "name": "python",
   "nbconvert_exporter": "python",
   "pygments_lexer": "ipython3",
   "version": "3.5.2"
  }
 },
 "nbformat": 4,
 "nbformat_minor": 2
}
