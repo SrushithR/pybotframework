{
 "cells": [
  {
   "attachments": {},
   "cell_type": "markdown",
   "metadata": {
    "slideshow": {
     "slide_type": "slide"
    }
   },
   "source": [
    "![image.png](images/logo_slide.png)"
   ]
  },
  {
   "cell_type": "markdown",
   "metadata": {
    "slideshow": {
     "slide_type": "slide"
    }
   },
   "source": [
    "**Prerequisites**\n",
    "\n",
    "_These are posted on https://github.com/michhar/pybotframework as well_\n",
    "\n",
    "* Bot Framework Emulator https://github.com/Microsoft/BotFramework-Emulator \n",
    "* Python installed (3.5+ recommended) https://anaconda.org/\n",
    "* Pybotframework package installed https://github.com/michhar/pybotframework\n",
    "* Docker - if macOS get https://docs.docker.com/docker-for-mac/install/ and if Windows get https://docs.docker.com/docker-for-windows/install/ (Please avoid Toolbox Docker)\n",
    "* Ngrok for Emulator https://ngrok.com/download\n"
   ]
  },
  {
   "attachments": {},
   "cell_type": "markdown",
   "metadata": {
    "collapsed": true,
    "slideshow": {
     "slide_type": "slide"
    }
   },
   "source": [
    "![image.png](images/title.png)\n",
    "Welcome!"
   ]
  },
  {
   "cell_type": "markdown",
   "metadata": {
    "slideshow": {
     "slide_type": "slide"
    }
   },
   "source": [
    "# The Team\n",
    "* Micheleen Harris == a Software Engineer and Data Scientist at Microsoft **@rheartpython**\n",
    "\n",
    "* David Clark == a Data Science Consultant **@arcturusRocks53**\n",
    "\n",
    "* Kendall Chuang == a Senior Python Engineer at Ayasdi **@kendallchuang**"
   ]
  },
  {
   "cell_type": "markdown",
   "metadata": {
    "slideshow": {
     "slide_type": "slide"
    }
   },
   "source": [
    "# Agenda\n",
    "1. Welcome\n",
    "2. Setup and Prerequisites check\n",
    "3. Overview\n",
    "  * Motivation and Bot Framework Intro\n",
    "  * Language Understanding Intelligent Service bot demo\n",
    "4. Regex bot tutorial\n",
    "5. Scikit-learn bot tutorial\n",
    "6. TensorFlow bot tutorial\n",
    "8. Framework architecture\n",
    "  * Build a connector\n",
    "7. Future\n",
    "  * How to contribute"
   ]
  },
  {
   "cell_type": "markdown",
   "metadata": {
    "slideshow": {
     "slide_type": "slide"
    }
   },
   "source": [
    "**Prerequisites**\n",
    "\n",
    "_These are posted on https://github.com/michhar/pybotframework as well_\n",
    "\n",
    "* Bot Framework Emulator https://github.com/Microsoft/BotFramework-Emulator \n",
    "* Python installed (3.5+ recommended) https://anaconda.org/\n",
    "* Pybotframework package installed https://github.com/michhar/pybotframework\n",
    "* Docker - if macOS get https://docs.docker.com/docker-for-mac/install/ and if Windows get https://docs.docker.com/docker-for-windows/install/ (Please avoid Toolbox Docker)\n",
    "* Ngrok for Emulator https://ngrok.com/download"
   ]
  },
  {
   "cell_type": "markdown",
   "metadata": {
    "slideshow": {
     "slide_type": "slide"
    }
   },
   "source": [
    "# Overview"
   ]
  },
  {
   "cell_type": "markdown",
   "metadata": {
    "slideshow": {
     "slide_type": "slide"
    }
   },
   "source": [
    "## Motivation\n",
    "\n",
    "* Easy way to link custom logic and machine learning to a Python-based bot\n",
    "\n",
    "* Easy way to test/dev a bot\n",
    "\n",
    "* Easy way to link a bot to channels"
   ]
  },
  {
   "cell_type": "markdown",
   "metadata": {
    "slideshow": {
     "slide_type": "slide"
    }
   },
   "source": [
    "## Microsoft Bot Framework\n",
    "![Bot Framework](https://docs.microsoft.com/en-us/bot-framework/media/how-it-works/architecture-resize.png)"
   ]
  },
  {
   "attachments": {},
   "cell_type": "markdown",
   "metadata": {
    "slideshow": {
     "slide_type": "slide"
    }
   },
   "source": [
    "## Bot Design Principles\n",
    "![image.png](images/design.png)"
   ]
  },
  {
   "cell_type": "markdown",
   "metadata": {
    "slideshow": {
     "slide_type": "slide"
    }
   },
   "source": [
    "## Bot Design Principles\n",
    "**Key considerations around AI and design today:**\n",
    "\n",
    "_Outcomes are determined as much by the human element as by the software element._"
   ]
  },
  {
   "attachments": {},
   "cell_type": "markdown",
   "metadata": {
    "slideshow": {
     "slide_type": "slide"
    }
   },
   "source": [
    "## Bot Framework as a Development Solution\n",
    "![image.png](images/local_deploy.png)"
   ]
  },
  {
   "attachments": {},
   "cell_type": "markdown",
   "metadata": {
    "slideshow": {
     "slide_type": "slide"
    }
   },
   "source": [
    "## Bot Framework as a Cloud Solution\n",
    "![image.png](images/cloud_deploy.png)"
   ]
  },
  {
   "attachments": {},
   "cell_type": "markdown",
   "metadata": {
    "slideshow": {
     "slide_type": "slide"
    }
   },
   "source": [
    "## Bot Framework State Service\n",
    "![image.png](images/state.png)"
   ]
  },
  {
   "cell_type": "markdown",
   "metadata": {
    "slideshow": {
     "slide_type": "slide"
    }
   },
   "source": [
    "## Language Understanding Intelligent Service Bot Demo"
   ]
  },
  {
   "cell_type": "markdown",
   "metadata": {
    "slideshow": {
     "slide_type": "slide"
    }
   },
   "source": [
    "# Future\n",
    "* Deployment guidelines\n",
    "* Look for announcements on the repo\n",
    "* More documentation and examples!"
   ]
  },
  {
   "cell_type": "code",
   "execution_count": null,
   "metadata": {
    "collapsed": true,
    "slideshow": {
     "slide_type": "skip"
    }
   },
   "outputs": [],
   "source": []
  }
 ],
 "metadata": {
  "celltoolbar": "Slideshow",
  "kernelspec": {
   "display_name": "Python 3",
   "language": "python",
   "name": "python3"
  },
  "language_info": {
   "codemirror_mode": {
    "name": "ipython",
    "version": 3
   },
   "file_extension": ".py",
   "mimetype": "text/x-python",
   "name": "python",
   "nbconvert_exporter": "python",
   "pygments_lexer": "ipython3",
   "version": "3.5.3"
  },
  "nav_menu": {},
  "toc": {
   "navigate_menu": true,
   "number_sections": true,
   "sideBar": true,
   "threshold": 6,
   "toc_cell": false,
   "toc_section_display": "block",
   "toc_window_display": false
  }
 },
 "nbformat": 4,
 "nbformat_minor": 2
}
